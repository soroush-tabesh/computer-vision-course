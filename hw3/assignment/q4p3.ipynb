{
 "cells": [
  {
   "cell_type": "markdown",
   "metadata": {
    "collapsed": true,
    "pycharm": {
     "name": "#%% md\n"
    }
   },
   "source": [
    "# سوال ۴\n",
    "##  بخش ۳\n",
    "\n",
    "در این قسمت نیز دقیقن همانند قسمت قبل بغات بصری را به دست می‌آوریم ولی در آخر برای دسته‌بندی هیستوگرام‌ها\n",
    "از روش $SVM$ با کرنل $RBF$ استفاده می‌کنیم.\n",
    "\n",
    "همچنین ماتریس کانفیوژن را تشکیل می‌دهیم که ردیف $i$ و ستون $j$ نشان دهنده این است که چه تعداد تشخیص داریم که دسته $i$ باشد ولی ما آن‌را $j$ تشخیص داده باشیم."
   ]
  },
  {
   "cell_type": "code",
   "execution_count": 2,
   "outputs": [],
   "source": [
    "import numpy as np\n",
    "import cv2 as cv\n",
    "from matplotlib import pyplot as plt\n",
    "from sklearn.metrics import accuracy_score, confusion_matrix\n",
    "from sklearn.cluster import KMeans\n",
    "from sklearn.svm import SVC\n",
    "from sklearn.model_selection import StratifiedKFold\n",
    "import os\n",
    "\n",
    "\n",
    "def find_train_test_files(root_path, train_dir='Train', test_dir='Test'):\n",
    "    category_names = []\n",
    "    train_imgs = []\n",
    "    train_labels = []\n",
    "    test_imgs = []\n",
    "    test_labels = []\n",
    "    for root, dirs, files in os.walk(root_path):\n",
    "        fs = root.replace(root_path, '').split(os.sep)\n",
    "        if len(fs) != 2:\n",
    "            continue\n",
    "        category_name = fs[1]\n",
    "        if category_name not in category_names:\n",
    "            category_names.append(category_name)\n",
    "        category_index = category_names.index(category_name)\n",
    "        for f in files:\n",
    "            img = cv.imread(os.path.join(root, f), cv.IMREAD_GRAYSCALE)\n",
    "            if fs[0] == train_dir:\n",
    "                train_imgs.append(img)\n",
    "                train_labels.append(category_index)\n",
    "            elif fs[0] == test_dir:\n",
    "                test_imgs.append(img)\n",
    "                test_labels.append(category_index)\n",
    "    return train_imgs, np.array(train_labels), test_imgs, np.array(test_labels), category_names\n",
    "\n",
    "\n",
    "root_path = './data/hw3/Data/'\n",
    "\n",
    "train_imgs, train_labels, test_imgs, test_labels, category_names = find_train_test_files(root_path)"
   ],
   "metadata": {
    "collapsed": false,
    "pycharm": {
     "name": "#%%\n"
    }
   }
  },
  {
   "cell_type": "code",
   "execution_count": 3,
   "outputs": [],
   "source": [
    "ft_cnt = 100\n",
    "sift = cv.SIFT_create(ft_cnt)\n",
    "train_imgs_words = np.vstack([sift.detectAndCompute(img, None)[1] for img in train_imgs])\n",
    "\n",
    "clus_cnt = 80\n",
    "train_imgs_dict = KMeans(clus_cnt)\n",
    "train_imgs_dict.fit(train_imgs_words)\n",
    "\n",
    "\n",
    "def extract_word_hist(imgs_list, word_dict):\n",
    "    imgs_word_hist = []\n",
    "    sift = cv.SIFT_create()\n",
    "    for img in imgs_list:\n",
    "        img_ft = sift.detectAndCompute(img, None)[1]\n",
    "        img_words = word_dict.predict(img_ft).tolist()\n",
    "        hist = np.array([img_words.count(i) for i in range(word_dict.n_clusters)])\n",
    "        hist = hist / hist.sum()\n",
    "        imgs_word_hist.append(hist)\n",
    "    return np.array(imgs_word_hist)\n",
    "\n",
    "\n",
    "train_imgs_hist = extract_word_hist(train_imgs, train_imgs_dict)\n",
    "test_imgs_hist = extract_word_hist(test_imgs, train_imgs_dict)"
   ],
   "metadata": {
    "collapsed": false,
    "pycharm": {
     "name": "#%%\n"
    }
   }
  },
  {
   "cell_type": "markdown",
   "source": [
    "مدل را با $SVM$ تست می‌کنیم:"
   ],
   "metadata": {
    "collapsed": false,
    "pycharm": {
     "name": "#%% md\n"
    }
   }
  },
  {
   "cell_type": "code",
   "execution_count": 4,
   "outputs": [
    {
     "name": "stdout",
     "output_type": "stream",
     "text": [
      "train accuracy: 0.5530988274706867\n",
      "test accuracy: 0.5233333333333333\n"
     ]
    }
   ],
   "source": [
    "accs = []\n",
    "skf = StratifiedKFold()\n",
    "for train_idx, valid_idx in skf.split(train_imgs_hist, train_labels):\n",
    "    clf = SVC(C=1.2, kernel='rbf')\n",
    "    clf.fit(train_imgs_hist[train_idx], train_labels[train_idx])\n",
    "    accs.append(accuracy_score(train_labels[valid_idx], clf.predict(train_imgs_hist[valid_idx])))\n",
    "print('train accuracy:', np.average(accs))\n",
    "\n",
    "clf = SVC(C=1.2, kernel='rbf')\n",
    "clf.fit(train_imgs_hist, train_labels)\n",
    "print('test accuracy:', accuracy_score(test_labels, clf.predict(test_imgs_hist)))"
   ],
   "metadata": {
    "collapsed": false,
    "pycharm": {
     "name": "#%%\n"
    }
   }
  },
  {
   "cell_type": "markdown",
   "source": [
    "در ادامه می‌توانید ماتریس کانفیوژن را ببینید:"
   ],
   "metadata": {
    "collapsed": false
   }
  },
  {
   "cell_type": "code",
   "execution_count": 5,
   "outputs": [
    {
     "data": {
      "text/plain": "<Figure size 288x288 with 1 Axes>",
      "image/png": "[encoded data removed]"
     },
     "metadata": {
      "needs_background": "light"
     },
     "output_type": "display_data"
    },
    {
     "name": "stdout",
     "output_type": "stream",
     "text": [
      "[[91  0  0  0  0  0  1  0  0  0  4  0  4  0  0]\n",
      " [ 2 20  3  7  1  1  7  6 34  0  1  5  3  4  6]\n",
      " [ 0  2 55  2  0  2  5  9  2  1  2 13  1  0  6]\n",
      " [ 0  4  8 36  1  0  3  2 33  2  0  2  1  5  3]\n",
      " [ 0  1  4  0 47 10  9  5  0  3  7 10  3  0  1]\n",
      " [ 0  0  0  0  3 70  0  0  0  0 20  2  5  0  0]\n",
      " [ 2  3 13  4  2  2 23  9 11  3  2  5  5  1 15]\n",
      " [ 0  0  5  0  0  0  9 63  3  2  0  5  4  0  9]\n",
      " [ 0  4  4  9  0  0  3  7 55  5  0  2  0  3  8]\n",
      " [ 2  0  0  0  1  0  2  0  2 87  0  3  2  0  1]\n",
      " [12  0  0  0  6 15  1  0  1  1 47  0 17  0  0]\n",
      " [ 0  0  6  0  3 10  8  3  2  1  3 57  2  0  5]\n",
      " [ 8  0  0  0  1  7  0  2  0  0 14  0 68  0  0]\n",
      " [ 0 13 20 13  0  1  6  1 31  2  0  1  0  7  5]\n",
      " [ 3  1  7  4  0  1  5  5  7  4  1  2  1  0 59]]\n"
     ]
    }
   ],
   "source": [
    "cnf_mat = confusion_matrix(test_labels, clf.predict(test_imgs_hist))\n",
    "plt.matshow(cnf_mat)\n",
    "plt.savefig('./out/res09.jpg')\n",
    "plt.show()\n",
    "print(cnf_mat)"
   ],
   "metadata": {
    "collapsed": false,
    "pycharm": {
     "name": "#%%\n"
    }
   }
  }
 ],
 "metadata": {
  "kernelspec": {
   "display_name": "Python 3",
   "language": "python",
   "name": "python3"
  },
  "language_info": {
   "codemirror_mode": {
    "name": "ipython",
    "version": 2
   },
   "file_extension": ".py",
   "mimetype": "text/x-python",
   "name": "python",
   "nbconvert_exporter": "python",
   "pygments_lexer": "ipython2",
   "version": "2.7.6"
  }
 },
 "nbformat": 4,
 "nbformat_minor": 0
}