{
 "cells": [
  {
   "cell_type": "markdown",
   "metadata": {
    "collapsed": true,
    "pycharm": {
     "name": "#%% md\n"
    }
   },
   "source": [
    "# Scene Recognition Using Bag of Words\n",
    "##  بخش ۲\n",
    "\n",
    "برای این بخش نیز همانند بخش قبل ابتدا تصاویر را از فایل می‌خوانیم و برچسب می‌زنیم. سپس با استفاده از روش سیفت، از هر عکس ترین، ۱۰۰ فیچر بهتر را\n",
    "به دست می‌آوریم و توصیف‌گر سیفت آن‌را به عنوان فیچر در نظر می‌گیریم. سپس تمامی این فیچرها را کنار هم قرار داده و از روی آن‌ها با روش $\\text{k-means}$ تعداد ۸۰ لغت بصری استخراج می‌کنیم.\n",
    "سپس برای به دست‌آوردن هیستوگرام لغات بصری به ازای هر عکس، تمام فیچر های سیفت را این بار استخراج می‌کنیم و با لغت‌نامه بصری مچ کرده و هیستوگرام لغات عکس را به دست می‌آوریم.\n",
    "\n",
    "در نهایت به ازای عکس‌های ترین، هیستوگرامشان را در یک فضا در نظر گرفته و مدل $KNN$ روی آن در نظر می‌گیریم و هر یک از تصاویر تست را با هیستوگرام لغتشان روی آن پیش‌بینی می‌کنیم.\n"
   ]
  },
  {
   "cell_type": "code",
   "execution_count": 1,
   "outputs": [],
   "source": [
    "import numpy as np\n",
    "import cv2 as cv\n",
    "from matplotlib import pyplot as plt\n",
    "from sklearn.neighbors import KNeighborsClassifier\n",
    "from sklearn.metrics import accuracy_score\n",
    "from sklearn.cluster import KMeans\n",
    "from sklearn.model_selection import StratifiedKFold\n",
    "import os\n",
    "\n",
    "\n",
    "def find_train_test_files(root_path, train_dir='Train', test_dir='Test'):\n",
    "    category_names = []\n",
    "    train_imgs = []\n",
    "    train_labels = []\n",
    "    test_imgs = []\n",
    "    test_labels = []\n",
    "    for root, dirs, files in os.walk(root_path):\n",
    "        fs = root.replace(root_path, '').split(os.sep)\n",
    "        if len(fs) != 2:\n",
    "            continue\n",
    "        category_name = fs[1]\n",
    "        if category_name not in category_names:\n",
    "            category_names.append(category_name)\n",
    "        category_index = category_names.index(category_name)\n",
    "        for f in files:\n",
    "            img = cv.imread(os.path.join(root, f), cv.IMREAD_GRAYSCALE)\n",
    "            if fs[0] == train_dir:\n",
    "                train_imgs.append(img)\n",
    "                train_labels.append(category_index)\n",
    "            elif fs[0] == test_dir:\n",
    "                test_imgs.append(img)\n",
    "                test_labels.append(category_index)\n",
    "    return train_imgs, np.array(train_labels), test_imgs, np.array(test_labels), category_names\n",
    "\n",
    "\n",
    "root_path = './data/hw3/Data/'\n",
    "\n",
    "train_imgs, train_labels, test_imgs, test_labels, category_names = find_train_test_files(root_path)"
   ],
   "metadata": {
    "collapsed": false,
    "pycharm": {
     "name": "#%%\n"
    }
   }
  },
  {
   "cell_type": "markdown",
   "source": [
    "استخراج تمام فیچرها و محسابه ۸۰ لغت بصری:\n",
    "\n",
    "در این‌جا عدد ۸۰ بهترین نقطه از لحاظ دقت و زمان اجرا بود."
   ],
   "metadata": {
    "collapsed": false,
    "pycharm": {
     "name": "#%% md\n"
    }
   }
  },
  {
   "cell_type": "code",
   "execution_count": 2,
   "outputs": [
    {
     "data": {
      "text/plain": "KMeans(n_clusters=80)"
     },
     "execution_count": 2,
     "metadata": {},
     "output_type": "execute_result"
    }
   ],
   "source": [
    "ft_cnt = 100\n",
    "sift = cv.SIFT_create(ft_cnt)\n",
    "train_imgs_words = np.vstack([sift.detectAndCompute(img, None)[1] for img in train_imgs])\n",
    "\n",
    "clus_cnt = 80\n",
    "train_imgs_dict = KMeans(clus_cnt)\n",
    "train_imgs_dict.fit(train_imgs_words)"
   ],
   "metadata": {
    "collapsed": false,
    "pycharm": {
     "name": "#%%\n"
    }
   }
  },
  {
   "cell_type": "markdown",
   "source": [
    "محاسبه هیستوگرام‌های لغات هر عکس"
   ],
   "metadata": {
    "collapsed": false
   }
  },
  {
   "cell_type": "code",
   "execution_count": 3,
   "outputs": [],
   "source": [
    "def extract_word_hist(imgs_list, word_dict):\n",
    "    imgs_word_hist = []\n",
    "    sift = cv.SIFT_create()\n",
    "    for img in imgs_list:\n",
    "        img_ft = sift.detectAndCompute(img, None)[1]\n",
    "        img_words = word_dict.predict(img_ft).tolist()\n",
    "        hist = np.array([img_words.count(i) for i in range(word_dict.n_clusters)])\n",
    "        hist = hist / hist.sum()\n",
    "        imgs_word_hist.append(hist)\n",
    "    return np.array(imgs_word_hist)\n",
    "\n",
    "\n",
    "train_imgs_hist = extract_word_hist(train_imgs, train_imgs_dict)\n",
    "test_imgs_hist = extract_word_hist(test_imgs, train_imgs_dict)"
   ],
   "metadata": {
    "collapsed": false,
    "pycharm": {
     "name": "#%%\n"
    }
   }
  },
  {
   "cell_type": "markdown",
   "source": [
    "در نهایت مدل را روی تست بررسی می‌کنیم. در اینجا $k=11$ با نرم $L_1$ بهترین نتیجه را ایجاد می‌کند:"
   ],
   "metadata": {
    "collapsed": false
   }
  },
  {
   "cell_type": "code",
   "execution_count": 5,
   "outputs": [
    {
     "name": "stdout",
     "output_type": "stream",
     "text": [
      "train accuracy: 42.94807370184255\n",
      "test accuracy: 42.4\n"
     ]
    }
   ],
   "source": [
    "accs = []\n",
    "skf = StratifiedKFold()\n",
    "for train_idx, valid_idx in skf.split(train_imgs_hist, train_labels):\n",
    "    clf = KNeighborsClassifier(n_neighbors=11, p=1)\n",
    "    clf.fit(train_imgs_hist[train_idx], train_labels[train_idx])\n",
    "    accs.append(accuracy_score(train_labels[valid_idx], clf.predict(train_imgs_hist[valid_idx])))\n",
    "print('train accuracy:', 100 * np.average(accs))\n",
    "\n",
    "clf = KNeighborsClassifier(n_neighbors=11, p=1)\n",
    "clf.fit(train_imgs_hist, train_labels)\n",
    "print('test accuracy:', 100 * accuracy_score(test_labels, clf.predict(test_imgs_hist)))\n",
    "\n"
   ],
   "metadata": {
    "collapsed": false,
    "pycharm": {
     "name": "#%%\n"
    }
   }
  }
 ],
 "metadata": {
  "kernelspec": {
   "display_name": "Python 3",
   "language": "python",
   "name": "python3"
  },
  "language_info": {
   "codemirror_mode": {
    "name": "ipython",
    "version": 2
   },
   "file_extension": ".py",
   "mimetype": "text/x-python",
   "name": "python",
   "nbconvert_exporter": "python",
   "pygments_lexer": "ipython2",
   "version": "2.7.6"
  }
 },
 "nbformat": 4,
 "nbformat_minor": 0
}