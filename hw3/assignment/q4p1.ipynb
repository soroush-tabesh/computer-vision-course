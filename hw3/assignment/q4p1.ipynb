{
 "cells": [
  {
   "cell_type": "markdown",
   "metadata": {
    "collapsed": true,
    "pycharm": {
     "name": "#%% md\n"
    }
   },
   "source": [
    "# Scene Recognition Using Bag of Words\n",
    "##  بخش ۱\n",
    "\n",
    "ابتدا با توجه به فایل‌های ورودی، عکس‌ها را به صورت دسته‌بندی شده می‌خوانیم و آن‌‌ها را بر اساس دسته‌شان برچسب میزنیم.\n",
    "\n",
    "برای قسمت ساخت بردار‌های هر عکس، با آزمون و خطا، بردار ۸×۸ بهترین دقت را داشت و این را به عنوان بردار تا انتهای کد\n",
    "در نظر می‌گیریم.\n",
    "\n",
    "برای انجام این مدل‌سازی، ابتدا هر عکس را به سایز ۸×۸ با درونیابی تبدیل می‌کنیم و بردار ویژگی به دست می‌آید.\n",
    "سپس تمامی بردار‌های ترین را در یک فضا در نظر می‌گیریم و برای پیش‌بینی دسته هر بردار تست، از $KNN$ با نرم $L_1$ استفاده می‌کنیم که ریزالت بهتری از نرم $L_2$ می‌دهد.\n",
    "البته همواره در هر یک از مراحل برای تصمیم‌گیری بهترین پارامتر، از $\\text{K-Fold Validation}$ روی داده ترین استفاده می‌کنیم و با داده تست کاری نداریم.\n",
    "\n",
    "در نهایت برای به دست آوردن دقت، برچسب‌های صحیح و برچسب‌های پیش‌بینی شده را در نظر می‌گیریم و درصد پیش‌بینی‌های صحیح را به دست می‌آوریم.\n"
   ]
  },
  {
   "cell_type": "code",
   "execution_count": 1,
   "outputs": [],
   "source": [
    "import numpy as np\n",
    "import cv2 as cv\n",
    "from matplotlib import pyplot as plt\n",
    "from sklearn.neighbors import KNeighborsClassifier\n",
    "from sklearn.metrics import accuracy_score\n",
    "from sklearn.model_selection import StratifiedKFold\n",
    "import os\n",
    "\n",
    "\n",
    "def find_train_test_files(root_path, train_dir='Train', test_dir='Test'):\n",
    "    category_names = []\n",
    "    train_imgs = []\n",
    "    train_labels = []\n",
    "    test_imgs = []\n",
    "    test_labels = []\n",
    "    for root, dirs, files in os.walk(root_path):\n",
    "        fs = root.replace(root_path, '').split(os.sep)\n",
    "        if len(fs) != 2:\n",
    "            continue\n",
    "        category_name = fs[1]\n",
    "        if category_name not in category_names:\n",
    "            category_names.append(category_name)\n",
    "        category_index = category_names.index(category_name)\n",
    "        for f in files:\n",
    "            img = cv.imread(os.path.join(root, f), cv.IMREAD_GRAYSCALE)\n",
    "            if fs[0] == train_dir:\n",
    "                train_imgs.append(img)\n",
    "                train_labels.append(category_index)\n",
    "            elif fs[0] == test_dir:\n",
    "                test_imgs.append(img)\n",
    "                test_labels.append(category_index)\n",
    "    return train_imgs, np.array(train_labels), test_imgs, np.array(test_labels), category_names\n",
    "\n",
    "\n",
    "root_path = './data/hw3/Data/'\n",
    "\n",
    "train_imgs, train_labels, test_imgs, test_labels, category_names = find_train_test_files(root_path)"
   ],
   "metadata": {
    "collapsed": false,
    "pycharm": {
     "name": "#%%\n"
    }
   }
  },
  {
   "cell_type": "markdown",
   "source": [
    "در ادامه، قطعه کدی که با $KNN$ دسته‌بندی می‌کند آمده‌است. در صورتی که $k=1$ قرار دهیم، به $NN$ تبدیل می‌شود."
   ],
   "metadata": {
    "collapsed": false,
    "pycharm": {
     "name": "#%% md\n"
    }
   }
  },
  {
   "cell_type": "code",
   "execution_count": 2,
   "outputs": [],
   "source": [
    "def simple_knn_predictor(train_imgs, train_labels, test_imgs, test_labels, knn_val, f_size,\n",
    "                         weights='distance', metric='minkowski', p=1):\n",
    "    train_imgs_d = np.array([cv.resize(img, (f_size, f_size), interpolation=cv.INTER_AREA).ravel()\n",
    "                             for img in train_imgs])\n",
    "    test_imgs_d = np.array([cv.resize(img, (f_size, f_size), interpolation=cv.INTER_AREA).ravel()\n",
    "                            for img in test_imgs])\n",
    "\n",
    "    accs = []\n",
    "    skf = StratifiedKFold()\n",
    "    for train_idx, valid_idx in skf.split(train_imgs_d, train_labels):\n",
    "        clf = KNeighborsClassifier(n_neighbors=knn_val, weights=weights, metric=metric, p=p)\n",
    "        clf.fit(train_imgs_d[train_idx], train_labels[train_idx])\n",
    "        accs.append(accuracy_score(train_labels[valid_idx], clf.predict(train_imgs_d[valid_idx])))\n",
    "\n",
    "    clf = KNeighborsClassifier(n_neighbors=knn_val, weights=weights, metric=metric, p=p)\n",
    "    clf.fit(train_imgs_d, train_labels)\n",
    "    pred = clf.predict(test_imgs_d)\n",
    "\n",
    "    return pred, np.average(accs), accuracy_score(test_labels, pred)"
   ],
   "metadata": {
    "collapsed": false,
    "pycharm": {
     "name": "#%%\n"
    }
   }
  },
  {
   "cell_type": "markdown",
   "source": [
    "در ادامه، قطعه‌کدی را داریم که دقت‌های ترین را برای پارامتر‌های مختلف سایز بردار به دست می‌دهد.\n",
    "دقت کنید که"
   ],
   "metadata": {
    "collapsed": false,
    "pycharm": {
     "name": "#%% md\n"
    }
   }
  },
  {
   "cell_type": "code",
   "execution_count": 3,
   "outputs": [
    {
     "data": {
      "text/plain": "<Figure size 432x288 with 1 Axes>",
      "image/png": "[encoded data removed]"
     },
     "metadata": {
      "needs_background": "light"
     },
     "output_type": "display_data"
    }
   ],
   "source": [
    "accs = []\n",
    "for i in range(4, 20, 2):\n",
    "    acc = simple_knn_predictor(train_imgs, train_labels, test_imgs, test_labels,\n",
    "                               knn_val=1, f_size=i, weights='uniform')[1]\n",
    "    accs.append((i, acc))\n",
    "accs = np.array(accs)\n",
    "plt.plot(accs[:, 0], accs[:, 1])\n",
    "plt.show()"
   ],
   "metadata": {
    "collapsed": false,
    "pycharm": {
     "name": "#%%\n"
    }
   }
  },
  {
   "cell_type": "markdown",
   "source": [
    "و همانطور که می‌بینید، در $k=1$ بهترین نتیجه با بردار ۸×۸ به دست می‌آید."
   ],
   "metadata": {
    "collapsed": false,
    "pycharm": {
     "name": "#%% md\n"
    }
   }
  },
  {
   "cell_type": "code",
   "execution_count": 4,
   "outputs": [
    {
     "name": "stdout",
     "output_type": "stream",
     "text": [
      "Nearest Neighbor:\n",
      "    train accuracy is 23.55 and test accuracy is 25.13\n"
     ]
    }
   ],
   "source": [
    "# best result using nn\n",
    "nn_best = simple_knn_predictor(train_imgs, train_labels, test_imgs, test_labels,\n",
    "                               knn_val=1, f_size=8, p=1)\n",
    "print('Nearest Neighbor:')\n",
    "print(f'    train accuracy is {100 * nn_best[1]:.2f} and test accuracy is {100 * nn_best[2]:.2f}')"
   ],
   "metadata": {
    "collapsed": false,
    "pycharm": {
     "name": "#%%\n"
    }
   }
  },
  {
   "cell_type": "markdown",
   "source": [
    "حال عملیات بالا را برای بهینه‌سازی پارامتر روی مقدار $k$ انجام می‌دهیم. البته این‌بار، در $KNN$ با توجه به اینکه تعداد بیشتری همسایه در نظر می‌گیریم، برای رای‌گیری میان همسایه‌‌ها به نسبت فاصله‌شان وزن برای رای‌شان قائل می‌شویم:"
   ],
   "metadata": {
    "collapsed": false,
    "pycharm": {
     "name": "#%% md\n"
    }
   }
  },
  {
   "cell_type": "code",
   "execution_count": 5,
   "outputs": [
    {
     "data": {
      "text/plain": "<Figure size 432x288 with 1 Axes>",
      "image/png": "[encoded data removed]"
     },
     "metadata": {
      "needs_background": "light"
     },
     "output_type": "display_data"
    }
   ],
   "source": [
    "accs = []\n",
    "for i in range(1, 20, 1):\n",
    "    acc = simple_knn_predictor(train_imgs, train_labels, test_imgs, test_labels,\n",
    "                               knn_val=i, f_size=8, weights='distance', p=1)[1]\n",
    "    accs.append((i, acc))\n",
    "accs = np.array(accs)\n",
    "plt.plot(accs[:, 0], accs[:, 1])\n",
    "plt.show()"
   ],
   "metadata": {
    "collapsed": false,
    "pycharm": {
     "name": "#%%\n"
    }
   }
  },
  {
   "cell_type": "markdown",
   "source": [
    "همانطور که می‌بینید، بهترین نتیجه برای $k=6$ به دست می‌آید. حال روی داده‌های تست اجرا می‌کنیم:"
   ],
   "metadata": {
    "collapsed": false,
    "pycharm": {
     "name": "#%% md\n"
    }
   }
  },
  {
   "cell_type": "code",
   "execution_count": 7,
   "outputs": [
    {
     "name": "stdout",
     "output_type": "stream",
     "text": [
      "K Nearest Neighbor: with k=6\n",
      "    train accuracy is 26.50 and test accuracy is 24.73\n"
     ]
    }
   ],
   "source": [
    "# best result using knn\n",
    "knn_value = 6\n",
    "knn_best = simple_knn_predictor(train_imgs, train_labels, test_imgs, test_labels,\n",
    "                                knn_val=knn_value, f_size=8, weights='distance', p=1)\n",
    "print(f'K Nearest Neighbor: with k={knn_value}')\n",
    "print(f'    train accuracy is {100 * knn_best[1]:.2f} and test accuracy is {100 * knn_best[2]:.2f}')\n",
    "\n"
   ],
   "metadata": {
    "collapsed": false,
    "pycharm": {
     "name": "#%%\n"
    }
   }
  }
 ],
 "metadata": {
  "kernelspec": {
   "display_name": "Python 3",
   "language": "python",
   "name": "python3"
  },
  "language_info": {
   "codemirror_mode": {
    "name": "ipython",
    "version": 2
   },
   "file_extension": ".py",
   "mimetype": "text/x-python",
   "name": "python",
   "nbconvert_exporter": "python",
   "pygments_lexer": "ipython2",
   "version": "2.7.6"
  }
 },
 "nbformat": 4,
 "nbformat_minor": 0
}