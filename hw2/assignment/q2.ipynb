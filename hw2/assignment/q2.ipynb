{
 "cells": [
  {
   "cell_type": "markdown",
   "source": [
    "## Camera Calibration\n",
    "\n",
    "<p style='direction:rtl; text-align: right'>\n",
    "برای پیدا کردن ماتریس کالیبراسیون، ابتدا با تابع findChessboardCorners به ازای هر عکس مختصات دو بعدی گوشه‌های صفحه شطرنجی\n",
    "را به دست می‌آوریم و با تابع cornerSubPix نیز آن‌را ریفاین می‌کنیم. سپس با مختصات سه بعدی آن‌ها که به بر اساس ساختار صفحه\n",
    "تولید شده‌است، متناظر می‌کنیم. پس از آن، برای این نقاط متناظر شده، با تابع calibrateCamera یک ماتریس کالیبراسیون دوربین به دست می‌آوریم.\n",
    "<br>\n",
    "<br>\n",
    "توجه کنید که مختصات سه بعدی نقاط را در فضا ثابت در نظر می‌گیریم و فرض می‌کنیم دوربین نسبت به صفحه جا به جایی داشته‌است.\n",
    "پس این نقاط سه بعدی را روی صفحه Z=0 در نظر میگیریم و روی جدولی با مربع‌های ۲۲میلی‌متری قرار می‌دهیم. (گرچه طول ضلع مربع‌ها\n",
    "اهمیت خاصی ندارد و در نهایت بی‌تاثیر می‌شود)\n",
    "</p>"
   ],
   "metadata": {
    "collapsed": false,
    "pycharm": {
     "name": "#%% md\n"
    }
   }
  },
  {
   "cell_type": "code",
   "execution_count": 1,
   "outputs": [],
   "source": [
    "import cv2 as cv\n",
    "import numpy as np\n",
    "import glob\n",
    "\n",
    "all_images = []\n",
    "image_names = glob.glob('./data/hw2/checkerboard/*.jpg')\n",
    "for image_name in sorted(image_names):\n",
    "    all_images.append(cv.imread(image_name))\n"
   ],
   "metadata": {
    "collapsed": false,
    "pycharm": {
     "name": "#%%\n"
    }
   }
  },
  {
   "cell_type": "code",
   "execution_count": 2,
   "outputs": [
    {
     "name": "stdout",
     "output_type": "stream",
     "text": [
      "1: [[2.93177481e+03 0.00000000e+00 9.11515601e+02]\n",
      " [0.00000000e+00 2.95269125e+03 5.51569293e+02]\n",
      " [0.00000000e+00 0.00000000e+00 1.00000000e+00]]\n",
      "2: [[3.00242310e+03 0.00000000e+00 8.84347162e+02]\n",
      " [0.00000000e+00 2.99848927e+03 5.36376647e+02]\n",
      " [0.00000000e+00 0.00000000e+00 1.00000000e+00]]\n",
      "3: [[3.04620462e+03 0.00000000e+00 7.18349258e+02]\n",
      " [0.00000000e+00 3.03488553e+03 5.48592497e+02]\n",
      " [0.00000000e+00 0.00000000e+00 1.00000000e+00]]\n",
      "4: [[2.98242948e+03 0.00000000e+00 8.34059633e+02]\n",
      " [0.00000000e+00 2.99043576e+03 5.14525378e+02]\n",
      " [0.00000000e+00 0.00000000e+00 1.00000000e+00]]\n"
     ]
    }
   ],
   "source": [
    "def get_camera_matrix(images):\n",
    "    board_size = (6, 9)\n",
    "\n",
    "    pts2d = []\n",
    "    pts3d = np.zeros((len(images), board_size[0] * board_size[1], 3), np.float32)\n",
    "    pts3d[:, :, :2] = np.mgrid[0:board_size[0], 0:board_size[1]].T.reshape(-1, 2) * 0.022\n",
    "    pts3d = list(pts3d)\n",
    "\n",
    "    for img in images:\n",
    "        img_gray = cv.cvtColor(img, cv.COLOR_BGR2GRAY)\n",
    "        ret, corners = cv.findChessboardCorners(img_gray, board_size,\n",
    "                                                 cv.CALIB_CB_ADAPTIVE_THRESH +\n",
    "                                                 cv.CALIB_CB_FAST_CHECK +\n",
    "                                                 cv.CALIB_CB_NORMALIZE_IMAGE)\n",
    "        corners2 = cv.cornerSubPix(img_gray, corners, (11, 11), (-1, -1),\n",
    "                                    (cv.TERM_CRITERIA_EPS + cv.TERM_CRITERIA_MAX_ITER, 30, 0.001))\n",
    "        pts2d.append(corners2)\n",
    "\n",
    "    _, mtx, _, _, _ = cv.calibrateCamera(pts3d, pts2d, images[0].shape[:2][::-1], None, None)\n",
    "    return mtx\n",
    "\n",
    "\n",
    "mat1 = get_camera_matrix(all_images[0:10])\n",
    "print(f'1: {mat1}')\n",
    "mat2 = get_camera_matrix(all_images[5:15])\n",
    "print(f'2: {mat2}')\n",
    "mat3 = get_camera_matrix(all_images[10:20])\n",
    "print(f'3: {mat3}')\n",
    "mat4 = get_camera_matrix(all_images[0:20])\n",
    "print(f'4: {mat4}')"
   ],
   "metadata": {
    "collapsed": false,
    "pycharm": {
     "name": "#%%\n"
    }
   }
  },
  {
   "cell_type": "markdown",
   "source": [
    "<p style='direction:rtl; text-align: right'>\n",
    "همانطور که در بالاتر مشاهده می‌کنید، ماتریس‌های به دست آمده در شرایط مختلف تقریبا یکسان است و خطای نسبی آن‌ها را در ادامه\n",
    "می‌توانید مشاهده کنید.\n",
    "<br>\n",
    "خطای موجود می‌تواند به دلیل وجود دیستورشن‌هایی در تصویر برداری باشد که در مدل‌سازی ما جای‌ ندارد. به علاوه، خطای عددی نیز سهم\n",
    "زیادی می‌تواند داشته باشد زیرا محاسبات با float32 انجام شده‌است.\n",
    "</p>\n",
    "\n"
   ],
   "metadata": {
    "collapsed": false,
    "pycharm": {
     "name": "#%% md\n"
    }
   }
  },
  {
   "cell_type": "code",
   "execution_count": 3,
   "outputs": [
    {
     "name": "stdout",
     "output_type": "stream",
     "text": [
      "[[0.         0.02089866 0.05566838 0.02481692]\n",
      " [0.02055262 0.         0.04027795 0.01348922]\n",
      " [0.05441723 0.04003562 0.         0.03265868]\n",
      " [0.02458533 0.01358834 0.03309779 0.        ]]\n"
     ]
    }
   ],
   "source": [
    "mats = [mat1, mat2, mat3, mat4]\n",
    "dists = np.zeros((len(mats), len(mats)))\n",
    "\n",
    "for i, matA in enumerate(mats):\n",
    "    for j, matB in enumerate(mats):\n",
    "        dists[i, j] = np.linalg.norm(matA - matB) / np.linalg.norm(matA)\n",
    "\n",
    "print(dists)"
   ],
   "metadata": {
    "collapsed": false,
    "pycharm": {
     "name": "#%%\n"
    }
   }
  },
  {
   "cell_type": "markdown",
   "source": [
    "<p style='direction:rtl; text-align: right'>\n",
    "فاصله‌ کانونی دوربین را بر اساس ماتریس به دست آمده از همه عکس‌ها حساب می‌کنیم.\n",
    "با فرض مربعی بودن پیکسل‌ها، درایه اول ماتریس کالیبراسیون را به عنوان فاصله کانونی در نظر می‌گیریم.\n",
    "</p>"
   ],
   "metadata": {
    "collapsed": false
   }
  },
  {
   "cell_type": "code",
   "execution_count": 4,
   "outputs": [
    {
     "name": "stdout",
     "output_type": "stream",
     "text": [
      "Focal Distance = 2982.43px\n"
     ]
    }
   ],
   "source": [
    "print(f'Focal Distance = {mat4[0, 0]:.2f}px')\n"
   ],
   "metadata": {
    "collapsed": false,
    "pycharm": {
     "name": "#%%\n"
    }
   }
  }
 ],
 "metadata": {
  "kernelspec": {
   "display_name": "Python 3",
   "language": "python",
   "name": "python3"
  },
  "language_info": {
   "codemirror_mode": {
    "name": "ipython",
    "version": 2
   },
   "file_extension": ".py",
   "mimetype": "text/x-python",
   "name": "python",
   "nbconvert_exporter": "python",
   "pygments_lexer": "ipython2",
   "version": "2.7.6"
  }
 },
 "nbformat": 4,
 "nbformat_minor": 0
}